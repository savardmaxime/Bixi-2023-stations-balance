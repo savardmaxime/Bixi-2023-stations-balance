{
 "cells": [
  {
   "cell_type": "code",
   "execution_count": null,
   "metadata": {},
   "outputs": [],
   "source": [
    "%load_ext autoreload\n",
    "%autoreload 2\n",
    "\n",
    "import pandas as pd\n",
    "import seaborn as sns\n",
    "import matplotlib.pyplot as plt\n",
    "\n",
    "pd.set_option('display.float_format', '{:.2f}'.format)\n",
    "sns.set_theme()"
   ]
  },
  {
   "cell_type": "code",
   "execution_count": null,
   "metadata": {},
   "outputs": [],
   "source": [
    "stations = pd.read_feather('stations_2023.feather')\n",
    "df = pd.read_feather('bixi_usage_2023.feather')"
   ]
  },
  {
   "cell_type": "code",
   "execution_count": null,
   "metadata": {},
   "outputs": [],
   "source": [
    "df.head()"
   ]
  },
  {
   "cell_type": "code",
   "execution_count": null,
   "metadata": {},
   "outputs": [],
   "source": [
    "#check if end time is after start time\n",
    "df[df['start_timestamp'] > df['end_timestamp']]"
   ]
  },
  {
   "cell_type": "code",
   "execution_count": null,
   "metadata": {},
   "outputs": [],
   "source": [
    "print('First pickup : ', df['start_timestamp'].min())\n",
    "print('Last pickup : ', df['start_timestamp'].max())\n",
    "print('First return : ', df['end_timestamp'].min())\n",
    "print('Last return : ', df['end_timestamp'].max())"
   ]
  },
  {
   "cell_type": "code",
   "execution_count": null,
   "metadata": {},
   "outputs": [],
   "source": [
    "# something is odd with the times. Maybe the time is Zulu timezone.\n",
    "# Check if time of day makes sense\n",
    "\n",
    "df['hour'] = df['start_timestamp'].dt.hour\n",
    "hourly = df[['hour','start_station_id']].groupby('hour').count()\n",
    "hourly.columns = ['count']\n",
    "\n",
    "sns.barplot(data=hourly, y='count', x='hour')\n",
    "plt.ticklabel_format(style='plain', axis='y')\n",
    "plt.title('Total bixi pickups by hour')\n",
    "plt.xlabel('Hour of the day')\n",
    "plt.ylabel('Number of pick-up')\n",
    "\n",
    "plt.show()"
   ]
  },
  {
   "cell_type": "code",
   "execution_count": null,
   "metadata": {},
   "outputs": [],
   "source": [
    "# too many pickup at night and not enough morning rush hour. \n",
    "df['start_timestamp'] = df['start_timestamp'].dt.tz_localize('UTC')\n",
    "df['start_timestamp'] = df['start_timestamp'].dt.tz_convert('America/Montreal')\n",
    "df['end_timestamp'] = df['end_timestamp'].dt.tz_localize('UTC')\n",
    "df['end_timestamp'] = df['end_timestamp'].dt.tz_convert('America/Montreal')\n",
    "\n",
    "df['hour'] = df['start_timestamp'].dt.hour\n",
    "hourly = df[['hour','start_station_id']].groupby('hour').count()\n",
    "hourly.columns = ['count']\n",
    "\n",
    "sns.barplot(data=hourly, y='count', x='hour')\n",
    "plt.ticklabel_format(style='plain', axis='y')\n",
    "plt.title('Total bixi pickups by hour')\n",
    "plt.xlabel('Hour of the day')\n",
    "plt.ylabel('Number of pick-up')\n",
    "\n",
    "plt.show()"
   ]
  },
  {
   "cell_type": "code",
   "execution_count": null,
   "metadata": {},
   "outputs": [],
   "source": [
    "print('First pickup : ', df['start_timestamp'].min())\n",
    "print('Last pickup : ', df['start_timestamp'].max())\n",
    "print('First return : ', df['end_timestamp'].min())\n",
    "print('Last return : ', df['end_timestamp'].max())"
   ]
  },
  {
   "cell_type": "code",
   "execution_count": null,
   "metadata": {},
   "outputs": [],
   "source": [
    "#the last pickup is now in 2023 and the hourly distribution makes more sense."
   ]
  },
  {
   "cell_type": "code",
   "execution_count": null,
   "metadata": {},
   "outputs": [],
   "source": [
    "print(df['duration_s'].describe())\n",
    "plt.hist(df['duration_s'], bins=25)\n",
    "plt.ticklabel_format(style='plain', axis='y')\n",
    "plt.title('Duration of bixi rides')\n",
    "plt.xlabel('Duration')\n",
    "plt.ylabel('Number of pick-up')\n",
    "plt.show()"
   ]
  },
  {
   "cell_type": "code",
   "execution_count": null,
   "metadata": {},
   "outputs": [],
   "source": [
    "low_bound = df['duration_s'].quantile(0.025)\n",
    "high_bound = df['duration_s'].quantile(0.975)\n",
    "print('95% of duration is between {:.2f}min and {:.2f}min'.format(\n",
    "    low_bound/60, \n",
    "    high_bound/60))"
   ]
  },
  {
   "cell_type": "code",
   "execution_count": null,
   "metadata": {},
   "outputs": [],
   "source": [
    "# keeping only 95% of the data as it make sense as a commuting service\n",
    "# <1 min could be error in handling the bike system\n",
    "\n",
    "new_df = df[\n",
    "        (df['duration_s'] > low_bound) & \n",
    "        (df['duration_s'] < high_bound)\n",
    "        ]"
   ]
  },
  {
   "cell_type": "code",
   "execution_count": null,
   "metadata": {},
   "outputs": [],
   "source": [
    "plt.hist(new_df['duration_s'], bins=25)\n",
    "plt.ticklabel_format(style='plain', axis='y')\n",
    "plt.title('Duration of bixi rides')\n",
    "plt.xlabel('Duration')\n",
    "plt.ylabel('Number of pick-up')\n",
    "plt.show()"
   ]
  },
  {
   "cell_type": "code",
   "execution_count": null,
   "metadata": {},
   "outputs": [],
   "source": [
    "print(new_df['duration_s'].describe())"
   ]
  },
  {
   "cell_type": "code",
   "execution_count": null,
   "metadata": {},
   "outputs": [],
   "source": [
    "new_df.to_feather('bixi_usage_2023_cleaned.feather')"
   ]
  },
  {
   "cell_type": "code",
   "execution_count": null,
   "metadata": {},
   "outputs": [],
   "source": []
  }
 ],
 "metadata": {
  "kernelspec": {
   "display_name": "env_wsl",
   "language": "python",
   "name": "python3"
  },
  "language_info": {
   "codemirror_mode": {
    "name": "ipython",
    "version": 3
   },
   "file_extension": ".py",
   "mimetype": "text/x-python",
   "name": "python",
   "nbconvert_exporter": "python",
   "pygments_lexer": "ipython3",
   "version": "3.10.12"
  }
 },
 "nbformat": 4,
 "nbformat_minor": 2
}
