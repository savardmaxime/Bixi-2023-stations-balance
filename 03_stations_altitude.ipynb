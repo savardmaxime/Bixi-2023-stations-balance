{
 "cells": [
  {
   "cell_type": "markdown",
   "metadata": {},
   "source": [
    "The elevation of each station is derived from the terrain montreal from the city of Montreal\n",
    "\n",
    "Since the data is rather large and the precision is just informative, I have simplified the process. \n",
    "I have extracted the points from the TIN and merged to the nearest point instead of interpolating the triangles, which would require more computing. \n",
    "There could be issues if the station is near a cliff. The triangles are relatively small and only 2 the points more than 8m away.\n",
    "\n",
    "Stations outside Montreal don't have lidar data and are of marginal volume at this time and return nan\n",
    "\n",
    "Source : https://donnees.montreal.ca/dataset/modele-numerique-de-terrain-mnt"
   ]
  },
  {
   "cell_type": "code",
   "execution_count": null,
   "metadata": {},
   "outputs": [],
   "source": [
    "import geopandas as gpd\n",
    "import pandas as pd\n",
    "import matplotlib.pyplot as plt\n",
    "from shapely.geometry import Point\n",
    "from pyproj import Transformer"
   ]
  },
  {
   "cell_type": "code",
   "execution_count": null,
   "metadata": {},
   "outputs": [],
   "source": [
    "# EPSG:2145   WGS 84 / MTM zone 8\n",
    "# EPSG:4326   WGS 84 / World Geodetic System 1984, used in GPS\n",
    "\n",
    "from_proj = 'EPSG:4326'\n",
    "to_proj = 'EPSG:2145'\n",
    "\n",
    "transformer = Transformer.from_crs(from_proj, to_proj)\n",
    "\n",
    "def convert_gps_to_mtm(point):\n",
    "    return transformer.transform(*point)   "
   ]
  },
  {
   "cell_type": "code",
   "execution_count": null,
   "metadata": {},
   "outputs": [],
   "source": [
    "# make geodataframe for lidar points\n",
    "lidar_points = pd.read_feather('mtl_points.feather')\n",
    "\n",
    "# Convert all points to Shapely Point object\n",
    "def make_point(row):\n",
    "    return Point(row['x'], row['y'], row['z'])\n",
    "\n",
    "lidar_points['geom'] = lidar_points.apply(make_point, axis=1)\n",
    "lidar_points = gpd.GeoDataFrame(lidar_points.drop(['x','y','z'], axis=1))\n",
    "lidar_points = lidar_points.set_geometry('geom').set_crs(epsg=2145)\n",
    "lidar_points.to_feather('gdf_points.feather')"
   ]
  },
  {
   "cell_type": "code",
   "execution_count": null,
   "metadata": {},
   "outputs": [],
   "source": [
    "lidar_points = gpd.read_feather('gdf_points.feather')\n",
    "lidar_points.head()"
   ]
  },
  {
   "cell_type": "code",
   "execution_count": null,
   "metadata": {},
   "outputs": [],
   "source": [
    "stations = pd.read_feather('stations_2023.feather')"
   ]
  },
  {
   "cell_type": "code",
   "execution_count": null,
   "metadata": {},
   "outputs": [],
   "source": [
    "# convert stations long/lat to mtm Shapely Point\n",
    "stations['mtm_co'] = stations.apply(lambda x: Point(convert_gps_to_mtm((x['latitude'], x['longitude']))), axis =1)\n",
    "stations = gpd.GeoDataFrame(stations).set_geometry('mtm_co').set_crs(2145)\n",
    "stations.head()"
   ]
  },
  {
   "cell_type": "code",
   "execution_count": null,
   "metadata": {},
   "outputs": [],
   "source": [
    "# spacial join stations with nearest altitude point when the maximum distance is 20m to filter stations outside Montreal\n",
    "altitude_df = gpd.sjoin_nearest(stations, lidar_points, how='left', distance_col='distance', max_distance=20)"
   ]
  },
  {
   "cell_type": "code",
   "execution_count": null,
   "metadata": {},
   "outputs": [],
   "source": [
    "altitude_df.head()"
   ]
  },
  {
   "cell_type": "code",
   "execution_count": null,
   "metadata": {},
   "outputs": [],
   "source": [
    "display(altitude_df['distance'].describe())\n",
    "altitude_df['distance'].plot(kind='box',\n",
    "                        title='Distance between station and altitude point',\n",
    "                        xlabel='meters',\n",
    "                        vert=False)\n",
    "plt.show()"
   ]
  },
  {
   "cell_type": "code",
   "execution_count": null,
   "metadata": {},
   "outputs": [],
   "source": [
    "altitude_df[altitude_df['distance'] > 8]"
   ]
  },
  {
   "cell_type": "code",
   "execution_count": null,
   "metadata": {},
   "outputs": [],
   "source": [
    "# merge the altitude into the main df\n",
    "altitude_df = altitude_df.merge(lidar_points, left_on='index_right', right_index=True)\n",
    "altitude_df['altitude_m'] = altitude_df['geom'].z"
   ]
  },
  {
   "cell_type": "code",
   "execution_count": null,
   "metadata": {},
   "outputs": [],
   "source": [
    "altitude_df.head()"
   ]
  },
  {
   "cell_type": "code",
   "execution_count": null,
   "metadata": {},
   "outputs": [],
   "source": [
    "# cleanup columns that are no longer needed\n",
    "out_df = altitude_df.drop(['mtm_co', 'index_right', 'distance', 'geom'], axis=1)\n",
    "out_df.head()"
   ]
  },
  {
   "cell_type": "code",
   "execution_count": null,
   "metadata": {},
   "outputs": [],
   "source": [
    "out_df.to_feather('stations_2023_altitude.feather')"
   ]
  }
 ],
 "metadata": {
  "kernelspec": {
   "display_name": "env_wsl",
   "language": "python",
   "name": "python3"
  },
  "language_info": {
   "codemirror_mode": {
    "name": "ipython",
    "version": 3
   },
   "file_extension": ".py",
   "mimetype": "text/x-python",
   "name": "python",
   "nbconvert_exporter": "python",
   "pygments_lexer": "ipython3",
   "version": "3.11.9"
  }
 },
 "nbformat": 4,
 "nbformat_minor": 2
}
