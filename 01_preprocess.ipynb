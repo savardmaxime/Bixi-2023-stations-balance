{
 "cells": [
  {
   "cell_type": "code",
   "execution_count": null,
   "metadata": {},
   "outputs": [],
   "source": [
    "import pandas as pd"
   ]
  },
  {
   "cell_type": "code",
   "execution_count": null,
   "metadata": {},
   "outputs": [],
   "source": [
    "#keeping long/lat as string\n",
    "df = pd.read_csv('data/DonneesOuvertes.csv', dtype=str)\n",
    "df.info()"
   ]
  },
  {
   "cell_type": "markdown",
   "metadata": {},
   "source": [
    "# Create the station list\n",
    "- a reference dataframe\n",
    "- cleaning dupe due to different spelling of station names based on lat/lon\n",
    "- fixing missing information. \n",
    "- reduce the size of the main dataframe"
   ]
  },
  {
   "cell_type": "code",
   "execution_count": null,
   "metadata": {},
   "outputs": [],
   "source": [
    "start_stations = df[['STARTSTATIONNAME','STARTSTATIONLATITUDE', 'STARTSTATIONLONGITUDE','STARTSTATIONARRONDISSEMENT']]\n",
    "end_stations = df[['ENDSTATIONNAME','ENDSTATIONLATITUDE', 'ENDSTATIONLONGITUDE','ENDSTATIONARRONDISSEMENT']]\n",
    "start_stations.columns = ['name','latitude','longitude','arrondissement']\n",
    "end_stations.columns = ['name','latitude','longitude','arrondissement']\n",
    "stations = pd.concat([start_stations, end_stations]).drop_duplicates().dropna().reset_index(drop=True)"
   ]
  },
  {
   "cell_type": "code",
   "execution_count": null,
   "metadata": {},
   "outputs": [],
   "source": [
    "# some stations have different names\n",
    "stations[stations[['latitude','longitude']].duplicated(keep=False)].sort_values('latitude')"
   ]
  },
  {
   "cell_type": "code",
   "execution_count": null,
   "metadata": {},
   "outputs": [],
   "source": [
    "to_drop = [839,551,758,173,931,914,926,919,728,923, 652, 705, 780, 787, 48, 893, 927, 858, 381, 376]\n",
    "stations = stations.drop(to_drop).reset_index(drop=True)\n",
    "stations.index = stations.index + 1\n",
    "stations[['latitude','longitude']].duplicated().sum()"
   ]
  },
  {
   "cell_type": "code",
   "execution_count": null,
   "metadata": {},
   "outputs": [],
   "source": [
    "stations.info()"
   ]
  },
  {
   "cell_type": "code",
   "execution_count": null,
   "metadata": {},
   "outputs": [],
   "source": [
    "stations[stations['latitude'] == '-1']"
   ]
  },
  {
   "cell_type": "code",
   "execution_count": null,
   "metadata": {},
   "outputs": [],
   "source": [
    "# got station coordinate from another set\n",
    "stations.at[358,'latitude'] = '45.492837758845226'\n",
    "stations.at[358,'longitude'] = '-73.5564199090004'\n",
    "stations[stations['latitude'] == '-1']"
   ]
  },
  {
   "cell_type": "code",
   "execution_count": null,
   "metadata": {},
   "outputs": [],
   "source": [
    "stations.index.rename('station_id', inplace=True)"
   ]
  },
  {
   "cell_type": "code",
   "execution_count": null,
   "metadata": {},
   "outputs": [],
   "source": [
    "#stations.to_csv('stations_2023.csv')\n",
    "stations.to_feather('stations_2023.feather')"
   ]
  },
  {
   "cell_type": "code",
   "execution_count": null,
   "metadata": {},
   "outputs": [],
   "source": [
    "station_keys = stations[['latitude','longitude']].reset_index()"
   ]
  },
  {
   "cell_type": "code",
   "execution_count": null,
   "metadata": {},
   "outputs": [],
   "source": [
    "# add the station key in the df then drop cols that are not needed\n",
    "merge_df = df.merge(station_keys.add_prefix('start_'), left_on=['STARTSTATIONLATITUDE','STARTSTATIONLONGITUDE'], right_on=['start_latitude','start_longitude'], how='left')\n",
    "merge_df = merge_df.merge(station_keys.add_prefix('end_'), left_on=['ENDSTATIONLATITUDE','ENDSTATIONLONGITUDE'], right_on=['end_latitude','end_longitude'], how='left')\n",
    "cols_to_drop = ['STARTSTATIONNAME', 'STARTSTATIONARRONDISSEMENT',\n",
    "       'STARTSTATIONLATITUDE', 'STARTSTATIONLONGITUDE', 'ENDSTATIONNAME',\n",
    "       'ENDSTATIONARRONDISSEMENT', 'ENDSTATIONLATITUDE', 'ENDSTATIONLONGITUDE',\n",
    "       'start_latitude', 'start_longitude',\n",
    "       'end_latitude', 'end_longitude',]\n",
    "merge_df = merge_df.drop(cols_to_drop, axis=1)"
   ]
  },
  {
   "cell_type": "code",
   "execution_count": null,
   "metadata": {},
   "outputs": [],
   "source": [
    "merge_df.head()"
   ]
  },
  {
   "cell_type": "code",
   "execution_count": null,
   "metadata": {},
   "outputs": [],
   "source": [
    "# some stations are not recorded rename as -1\n",
    "print(merge_df.isna().sum())\n",
    "merge_df['start_station_id'] = merge_df['start_station_id'].fillna(-1).astype('int16')\n",
    "merge_df['end_station_id'] = merge_df['end_station_id'].fillna(-1).astype('int16')\n",
    "print(merge_df.isna().sum())"
   ]
  },
  {
   "cell_type": "code",
   "execution_count": null,
   "metadata": {},
   "outputs": [],
   "source": [
    "merge_df['STARTTIMEMS'] = merge_df['STARTTIMEMS'].astype(float)\n",
    "merge_df['ENDTIMEMS'] = merge_df['ENDTIMEMS'].astype(float)\n",
    "merge_df['duration_s'] = round((merge_df['ENDTIMEMS'] - merge_df['STARTTIMEMS']) / 1000)\n",
    "merge_df['start_timestamp'] = pd.to_datetime(merge_df['STARTTIMEMS'], unit='ms')\n",
    "merge_df['end_timestamp'] = pd.to_datetime(merge_df['ENDTIMEMS'], unit='ms')\n",
    "merge_df.drop(['STARTTIMEMS','ENDTIMEMS'], inplace=True, axis=1)"
   ]
  },
  {
   "cell_type": "code",
   "execution_count": null,
   "metadata": {},
   "outputs": [],
   "source": [
    "print(merge_df.info())\n",
    "print(merge_df.head())\n",
    "print(merge_df.isna().sum())"
   ]
  },
  {
   "cell_type": "code",
   "execution_count": null,
   "metadata": {},
   "outputs": [],
   "source": [
    "#merge_df.to_csv('n_usage_2023.csv')\n",
    "merge_df.to_feather('bixi_usage_2023.feather')"
   ]
  },
  {
   "cell_type": "code",
   "execution_count": null,
   "metadata": {},
   "outputs": [],
   "source": []
  }
 ],
 "metadata": {
  "kernelspec": {
   "display_name": "env_wsl",
   "language": "python",
   "name": "python3"
  },
  "language_info": {
   "codemirror_mode": {
    "name": "ipython",
    "version": 3
   },
   "file_extension": ".py",
   "mimetype": "text/x-python",
   "name": "python",
   "nbconvert_exporter": "python",
   "pygments_lexer": "ipython3",
   "version": "3.10.12"
  }
 },
 "nbformat": 4,
 "nbformat_minor": 2
}
